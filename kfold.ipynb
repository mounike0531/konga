{
 "cells": [
  {
   "cell_type": "code",
   "execution_count": 1,
   "id": "fe3ea67c",
   "metadata": {},
   "outputs": [],
   "source": [
    "import pandas as pd\n",
    "import numpy as np\n",
    "%matplotlib inline\n",
    "import seaborn as sns\n",
    "import warnings\n",
    "warnings.filterwarnings('ignore')"
   ]
  },
  {
   "cell_type": "code",
   "execution_count": 2,
   "id": "ee61c33a",
   "metadata": {
    "scrolled": false
   },
   "outputs": [
    {
     "data": {
      "text/html": [
       "<div>\n",
       "<style scoped>\n",
       "    .dataframe tbody tr th:only-of-type {\n",
       "        vertical-align: middle;\n",
       "    }\n",
       "\n",
       "    .dataframe tbody tr th {\n",
       "        vertical-align: top;\n",
       "    }\n",
       "\n",
       "    .dataframe thead th {\n",
       "        text-align: right;\n",
       "    }\n",
       "</style>\n",
       "<table border=\"1\" class=\"dataframe\">\n",
       "  <thead>\n",
       "    <tr style=\"text-align: right;\">\n",
       "      <th></th>\n",
       "      <th>Response Time</th>\n",
       "      <th>Availability\\t\\t</th>\n",
       "      <th>Throughput</th>\n",
       "      <th>Successability</th>\n",
       "      <th>Reliability</th>\n",
       "      <th>Compliance</th>\n",
       "      <th>Best Practices</th>\n",
       "      <th>Latency</th>\n",
       "      <th>Documentation</th>\n",
       "      <th>Service Name\\t\\t</th>\n",
       "      <th>WSDL Address</th>\n",
       "      <th>Unnamed: 11</th>\n",
       "    </tr>\n",
       "  </thead>\n",
       "  <tbody>\n",
       "    <tr>\n",
       "      <th>0</th>\n",
       "      <td>302.75</td>\n",
       "      <td>89</td>\n",
       "      <td>7.1</td>\n",
       "      <td>90</td>\n",
       "      <td>73</td>\n",
       "      <td>78</td>\n",
       "      <td>80</td>\n",
       "      <td>187.75</td>\n",
       "      <td>32</td>\n",
       "      <td>MAPPMatching</td>\n",
       "      <td>http://xml.assessment.com/service/MAPPMatching...</td>\n",
       "      <td>NaN</td>\n",
       "    </tr>\n",
       "    <tr>\n",
       "      <th>1</th>\n",
       "      <td>482.00</td>\n",
       "      <td>85</td>\n",
       "      <td>16.0</td>\n",
       "      <td>95</td>\n",
       "      <td>73</td>\n",
       "      <td>100</td>\n",
       "      <td>84</td>\n",
       "      <td>1.00</td>\n",
       "      <td>2</td>\n",
       "      <td>Compound2</td>\n",
       "      <td>http://www.mssoapinterop.org/asmx/WSDL/compoun...</td>\n",
       "      <td>NaN</td>\n",
       "    </tr>\n",
       "    <tr>\n",
       "      <th>2</th>\n",
       "      <td>3321.40</td>\n",
       "      <td>89</td>\n",
       "      <td>1.4</td>\n",
       "      <td>96</td>\n",
       "      <td>73</td>\n",
       "      <td>78</td>\n",
       "      <td>80</td>\n",
       "      <td>2.60</td>\n",
       "      <td>96</td>\n",
       "      <td>USDAData</td>\n",
       "      <td>http://www.strikeiron.com/webservices/usdadata...</td>\n",
       "      <td>NaN</td>\n",
       "    </tr>\n",
       "    <tr>\n",
       "      <th>3</th>\n",
       "      <td>126.17</td>\n",
       "      <td>98</td>\n",
       "      <td>12.0</td>\n",
       "      <td>100</td>\n",
       "      <td>67</td>\n",
       "      <td>78</td>\n",
       "      <td>82</td>\n",
       "      <td>22.77</td>\n",
       "      <td>89</td>\n",
       "      <td>GBNIRHolidayDates</td>\n",
       "      <td>http://www.holidaywebservice.com/Holidays/GBNI...</td>\n",
       "      <td>NaN</td>\n",
       "    </tr>\n",
       "    <tr>\n",
       "      <th>4</th>\n",
       "      <td>107.00</td>\n",
       "      <td>87</td>\n",
       "      <td>1.9</td>\n",
       "      <td>95</td>\n",
       "      <td>73</td>\n",
       "      <td>89</td>\n",
       "      <td>62</td>\n",
       "      <td>58.33</td>\n",
       "      <td>93</td>\n",
       "      <td>CasUsers</td>\n",
       "      <td>http://galex.stsci.edu/casjobs/CasUsers.asmx?WSDL</td>\n",
       "      <td>NaN</td>\n",
       "    </tr>\n",
       "    <tr>\n",
       "      <th>...</th>\n",
       "      <td>...</td>\n",
       "      <td>...</td>\n",
       "      <td>...</td>\n",
       "      <td>...</td>\n",
       "      <td>...</td>\n",
       "      <td>...</td>\n",
       "      <td>...</td>\n",
       "      <td>...</td>\n",
       "      <td>...</td>\n",
       "      <td>...</td>\n",
       "      <td>...</td>\n",
       "      <td>...</td>\n",
       "    </tr>\n",
       "    <tr>\n",
       "      <th>2502</th>\n",
       "      <td>200.80</td>\n",
       "      <td>93</td>\n",
       "      <td>2.4</td>\n",
       "      <td>98</td>\n",
       "      <td>73</td>\n",
       "      <td>100</td>\n",
       "      <td>84</td>\n",
       "      <td>7.40</td>\n",
       "      <td>41</td>\n",
       "      <td>garnierService</td>\n",
       "      <td>http://genome.dkfz-heidelberg.de/menu/hobit/em...</td>\n",
       "      <td>NaN</td>\n",
       "    </tr>\n",
       "    <tr>\n",
       "      <th>2503</th>\n",
       "      <td>56.17</td>\n",
       "      <td>97</td>\n",
       "      <td>11.3</td>\n",
       "      <td>97</td>\n",
       "      <td>83</td>\n",
       "      <td>78</td>\n",
       "      <td>91</td>\n",
       "      <td>7.17</td>\n",
       "      <td>3</td>\n",
       "      <td>AWSAlexa</td>\n",
       "      <td>http://awis.amazonaws.com/AWSAlexa/AWSAlexa.wsdl</td>\n",
       "      <td>NaN</td>\n",
       "    </tr>\n",
       "    <tr>\n",
       "      <th>2504</th>\n",
       "      <td>93.93</td>\n",
       "      <td>80</td>\n",
       "      <td>2.1</td>\n",
       "      <td>80</td>\n",
       "      <td>67</td>\n",
       "      <td>78</td>\n",
       "      <td>82</td>\n",
       "      <td>3.72</td>\n",
       "      <td>60</td>\n",
       "      <td>interop2</td>\n",
       "      <td>http://www.cs.fsu.edu/~engelen/interop2.wsdl</td>\n",
       "      <td>NaN</td>\n",
       "    </tr>\n",
       "    <tr>\n",
       "      <th>2505</th>\n",
       "      <td>106.75</td>\n",
       "      <td>86</td>\n",
       "      <td>1.3</td>\n",
       "      <td>95</td>\n",
       "      <td>80</td>\n",
       "      <td>78</td>\n",
       "      <td>87</td>\n",
       "      <td>1.25</td>\n",
       "      <td>96</td>\n",
       "      <td>SailboatCalcsWS</td>\n",
       "      <td>http://pooh.poly.asu.edu/cst556-sailboatcalcsw...</td>\n",
       "      <td>NaN</td>\n",
       "    </tr>\n",
       "    <tr>\n",
       "      <th>2506</th>\n",
       "      <td>316.50</td>\n",
       "      <td>72</td>\n",
       "      <td>15.9</td>\n",
       "      <td>72</td>\n",
       "      <td>80</td>\n",
       "      <td>89</td>\n",
       "      <td>87</td>\n",
       "      <td>5.50</td>\n",
       "      <td>8</td>\n",
       "      <td>Slash/SOAP/Test</td>\n",
       "      <td>http://use.perl.org/soap/Test.wsdl</td>\n",
       "      <td>NaN</td>\n",
       "    </tr>\n",
       "  </tbody>\n",
       "</table>\n",
       "<p>2507 rows × 12 columns</p>\n",
       "</div>"
      ],
      "text/plain": [
       "      Response Time  Availability\\t\\t  Throughput  Successability  \\\n",
       "0            302.75                89         7.1              90   \n",
       "1            482.00                85        16.0              95   \n",
       "2           3321.40                89         1.4              96   \n",
       "3            126.17                98        12.0             100   \n",
       "4            107.00                87         1.9              95   \n",
       "...             ...               ...         ...             ...   \n",
       "2502         200.80                93         2.4              98   \n",
       "2503          56.17                97        11.3              97   \n",
       "2504          93.93                80         2.1              80   \n",
       "2505         106.75                86         1.3              95   \n",
       "2506         316.50                72        15.9              72   \n",
       "\n",
       "       Reliability  Compliance  Best Practices   Latency   Documentation  \\\n",
       "0               73          78              80    187.75              32   \n",
       "1               73         100              84      1.00               2   \n",
       "2               73          78              80      2.60              96   \n",
       "3               67          78              82     22.77              89   \n",
       "4               73          89              62     58.33              93   \n",
       "...            ...         ...             ...       ...             ...   \n",
       "2502            73         100              84      7.40              41   \n",
       "2503            83          78              91      7.17               3   \n",
       "2504            67          78              82      3.72              60   \n",
       "2505            80          78              87      1.25              96   \n",
       "2506            80          89              87      5.50               8   \n",
       "\n",
       "       Service Name\\t\\t                                       WSDL Address  \\\n",
       "0          MAPPMatching  http://xml.assessment.com/service/MAPPMatching...   \n",
       "1             Compound2  http://www.mssoapinterop.org/asmx/WSDL/compoun...   \n",
       "2              USDAData  http://www.strikeiron.com/webservices/usdadata...   \n",
       "3     GBNIRHolidayDates  http://www.holidaywebservice.com/Holidays/GBNI...   \n",
       "4              CasUsers  http://galex.stsci.edu/casjobs/CasUsers.asmx?WSDL   \n",
       "...                 ...                                                ...   \n",
       "2502     garnierService  http://genome.dkfz-heidelberg.de/menu/hobit/em...   \n",
       "2503           AWSAlexa   http://awis.amazonaws.com/AWSAlexa/AWSAlexa.wsdl   \n",
       "2504           interop2       http://www.cs.fsu.edu/~engelen/interop2.wsdl   \n",
       "2505    SailboatCalcsWS  http://pooh.poly.asu.edu/cst556-sailboatcalcsw...   \n",
       "2506    Slash/SOAP/Test                 http://use.perl.org/soap/Test.wsdl   \n",
       "\n",
       "     Unnamed: 11  \n",
       "0            NaN  \n",
       "1            NaN  \n",
       "2            NaN  \n",
       "3            NaN  \n",
       "4            NaN  \n",
       "...          ...  \n",
       "2502         NaN  \n",
       "2503         NaN  \n",
       "2504         NaN  \n",
       "2505         NaN  \n",
       "2506         NaN  \n",
       "\n",
       "[2507 rows x 12 columns]"
      ]
     },
     "execution_count": 2,
     "metadata": {},
     "output_type": "execute_result"
    }
   ],
   "source": [
    "df = pd.read_excel('yola 1 (1).xlsx')\n",
    "df"
   ]
  },
  {
   "cell_type": "markdown",
   "id": "86b549d7",
   "metadata": {
    "collapsed": true
   },
   "source": [
    "DATA VISUALISATION"
   ]
  },
  {
   "cell_type": "code",
   "execution_count": 3,
   "id": "c58b99c1",
   "metadata": {},
   "outputs": [
    {
     "data": {
      "text/plain": [
       "Response Time        False\n",
       "Availability\\t\\t     False\n",
       "Throughput           False\n",
       "Successability       False\n",
       " Reliability         False\n",
       "Compliance           False\n",
       "Best Practices       False\n",
       " Latency             False\n",
       " Documentation       False\n",
       " Service Name\\t\\t    False\n",
       "WSDL Address         False\n",
       "Unnamed: 11           True\n",
       "dtype: bool"
      ]
     },
     "execution_count": 3,
     "metadata": {},
     "output_type": "execute_result"
    }
   ],
   "source": [
    "df.isnull().any()"
   ]
  },
  {
   "cell_type": "code",
   "execution_count": 4,
   "id": "5d0c68f9",
   "metadata": {},
   "outputs": [],
   "source": [
    "df.drop('Unnamed: 11', axis='columns', inplace=True)"
   ]
  },
  {
   "cell_type": "code",
   "execution_count": 5,
   "id": "930b8039",
   "metadata": {},
   "outputs": [],
   "source": [
    "# df.drop([['Unnamed: 11','WSDL Address']], axis='columns', inplace=True)"
   ]
  },
  {
   "cell_type": "code",
   "execution_count": 6,
   "id": "fae9239c",
   "metadata": {},
   "outputs": [],
   "source": [
    "df.drop('WSDL Address', axis='columns', inplace=True)"
   ]
  },
  {
   "cell_type": "code",
   "execution_count": 7,
   "id": "a17a814c",
   "metadata": {
    "scrolled": true
   },
   "outputs": [
    {
     "data": {
      "text/html": [
       "<div>\n",
       "<style scoped>\n",
       "    .dataframe tbody tr th:only-of-type {\n",
       "        vertical-align: middle;\n",
       "    }\n",
       "\n",
       "    .dataframe tbody tr th {\n",
       "        vertical-align: top;\n",
       "    }\n",
       "\n",
       "    .dataframe thead th {\n",
       "        text-align: right;\n",
       "    }\n",
       "</style>\n",
       "<table border=\"1\" class=\"dataframe\">\n",
       "  <thead>\n",
       "    <tr style=\"text-align: right;\">\n",
       "      <th></th>\n",
       "      <th>Response Time</th>\n",
       "      <th>Availability\\t\\t</th>\n",
       "      <th>Throughput</th>\n",
       "      <th>Successability</th>\n",
       "      <th>Reliability</th>\n",
       "      <th>Compliance</th>\n",
       "      <th>Best Practices</th>\n",
       "      <th>Latency</th>\n",
       "      <th>Documentation</th>\n",
       "      <th>Service Name\\t\\t</th>\n",
       "    </tr>\n",
       "  </thead>\n",
       "  <tbody>\n",
       "    <tr>\n",
       "      <th>0</th>\n",
       "      <td>302.75</td>\n",
       "      <td>89</td>\n",
       "      <td>7.1</td>\n",
       "      <td>90</td>\n",
       "      <td>73</td>\n",
       "      <td>78</td>\n",
       "      <td>80</td>\n",
       "      <td>187.75</td>\n",
       "      <td>32</td>\n",
       "      <td>MAPPMatching</td>\n",
       "    </tr>\n",
       "    <tr>\n",
       "      <th>1</th>\n",
       "      <td>482.00</td>\n",
       "      <td>85</td>\n",
       "      <td>16.0</td>\n",
       "      <td>95</td>\n",
       "      <td>73</td>\n",
       "      <td>100</td>\n",
       "      <td>84</td>\n",
       "      <td>1.00</td>\n",
       "      <td>2</td>\n",
       "      <td>Compound2</td>\n",
       "    </tr>\n",
       "    <tr>\n",
       "      <th>2</th>\n",
       "      <td>3321.40</td>\n",
       "      <td>89</td>\n",
       "      <td>1.4</td>\n",
       "      <td>96</td>\n",
       "      <td>73</td>\n",
       "      <td>78</td>\n",
       "      <td>80</td>\n",
       "      <td>2.60</td>\n",
       "      <td>96</td>\n",
       "      <td>USDAData</td>\n",
       "    </tr>\n",
       "    <tr>\n",
       "      <th>3</th>\n",
       "      <td>126.17</td>\n",
       "      <td>98</td>\n",
       "      <td>12.0</td>\n",
       "      <td>100</td>\n",
       "      <td>67</td>\n",
       "      <td>78</td>\n",
       "      <td>82</td>\n",
       "      <td>22.77</td>\n",
       "      <td>89</td>\n",
       "      <td>GBNIRHolidayDates</td>\n",
       "    </tr>\n",
       "    <tr>\n",
       "      <th>4</th>\n",
       "      <td>107.00</td>\n",
       "      <td>87</td>\n",
       "      <td>1.9</td>\n",
       "      <td>95</td>\n",
       "      <td>73</td>\n",
       "      <td>89</td>\n",
       "      <td>62</td>\n",
       "      <td>58.33</td>\n",
       "      <td>93</td>\n",
       "      <td>CasUsers</td>\n",
       "    </tr>\n",
       "    <tr>\n",
       "      <th>...</th>\n",
       "      <td>...</td>\n",
       "      <td>...</td>\n",
       "      <td>...</td>\n",
       "      <td>...</td>\n",
       "      <td>...</td>\n",
       "      <td>...</td>\n",
       "      <td>...</td>\n",
       "      <td>...</td>\n",
       "      <td>...</td>\n",
       "      <td>...</td>\n",
       "    </tr>\n",
       "    <tr>\n",
       "      <th>2502</th>\n",
       "      <td>200.80</td>\n",
       "      <td>93</td>\n",
       "      <td>2.4</td>\n",
       "      <td>98</td>\n",
       "      <td>73</td>\n",
       "      <td>100</td>\n",
       "      <td>84</td>\n",
       "      <td>7.40</td>\n",
       "      <td>41</td>\n",
       "      <td>garnierService</td>\n",
       "    </tr>\n",
       "    <tr>\n",
       "      <th>2503</th>\n",
       "      <td>56.17</td>\n",
       "      <td>97</td>\n",
       "      <td>11.3</td>\n",
       "      <td>97</td>\n",
       "      <td>83</td>\n",
       "      <td>78</td>\n",
       "      <td>91</td>\n",
       "      <td>7.17</td>\n",
       "      <td>3</td>\n",
       "      <td>AWSAlexa</td>\n",
       "    </tr>\n",
       "    <tr>\n",
       "      <th>2504</th>\n",
       "      <td>93.93</td>\n",
       "      <td>80</td>\n",
       "      <td>2.1</td>\n",
       "      <td>80</td>\n",
       "      <td>67</td>\n",
       "      <td>78</td>\n",
       "      <td>82</td>\n",
       "      <td>3.72</td>\n",
       "      <td>60</td>\n",
       "      <td>interop2</td>\n",
       "    </tr>\n",
       "    <tr>\n",
       "      <th>2505</th>\n",
       "      <td>106.75</td>\n",
       "      <td>86</td>\n",
       "      <td>1.3</td>\n",
       "      <td>95</td>\n",
       "      <td>80</td>\n",
       "      <td>78</td>\n",
       "      <td>87</td>\n",
       "      <td>1.25</td>\n",
       "      <td>96</td>\n",
       "      <td>SailboatCalcsWS</td>\n",
       "    </tr>\n",
       "    <tr>\n",
       "      <th>2506</th>\n",
       "      <td>316.50</td>\n",
       "      <td>72</td>\n",
       "      <td>15.9</td>\n",
       "      <td>72</td>\n",
       "      <td>80</td>\n",
       "      <td>89</td>\n",
       "      <td>87</td>\n",
       "      <td>5.50</td>\n",
       "      <td>8</td>\n",
       "      <td>Slash/SOAP/Test</td>\n",
       "    </tr>\n",
       "  </tbody>\n",
       "</table>\n",
       "<p>2507 rows × 10 columns</p>\n",
       "</div>"
      ],
      "text/plain": [
       "      Response Time  Availability\\t\\t  Throughput  Successability  \\\n",
       "0            302.75                89         7.1              90   \n",
       "1            482.00                85        16.0              95   \n",
       "2           3321.40                89         1.4              96   \n",
       "3            126.17                98        12.0             100   \n",
       "4            107.00                87         1.9              95   \n",
       "...             ...               ...         ...             ...   \n",
       "2502         200.80                93         2.4              98   \n",
       "2503          56.17                97        11.3              97   \n",
       "2504          93.93                80         2.1              80   \n",
       "2505         106.75                86         1.3              95   \n",
       "2506         316.50                72        15.9              72   \n",
       "\n",
       "       Reliability  Compliance  Best Practices   Latency   Documentation  \\\n",
       "0               73          78              80    187.75              32   \n",
       "1               73         100              84      1.00               2   \n",
       "2               73          78              80      2.60              96   \n",
       "3               67          78              82     22.77              89   \n",
       "4               73          89              62     58.33              93   \n",
       "...            ...         ...             ...       ...             ...   \n",
       "2502            73         100              84      7.40              41   \n",
       "2503            83          78              91      7.17               3   \n",
       "2504            67          78              82      3.72              60   \n",
       "2505            80          78              87      1.25              96   \n",
       "2506            80          89              87      5.50               8   \n",
       "\n",
       "       Service Name\\t\\t  \n",
       "0          MAPPMatching  \n",
       "1             Compound2  \n",
       "2              USDAData  \n",
       "3     GBNIRHolidayDates  \n",
       "4              CasUsers  \n",
       "...                 ...  \n",
       "2502     garnierService  \n",
       "2503           AWSAlexa  \n",
       "2504           interop2  \n",
       "2505    SailboatCalcsWS  \n",
       "2506    Slash/SOAP/Test  \n",
       "\n",
       "[2507 rows x 10 columns]"
      ]
     },
     "execution_count": 7,
     "metadata": {},
     "output_type": "execute_result"
    }
   ],
   "source": [
    "df"
   ]
  },
  {
   "cell_type": "code",
   "execution_count": 8,
   "id": "18cc6913",
   "metadata": {
    "scrolled": true
   },
   "outputs": [
    {
     "data": {
      "text/plain": [
       "<AxesSubplot:>"
      ]
     },
     "execution_count": 8,
     "metadata": {},
     "output_type": "execute_result"
    },
    {
     "data": {
      "image/png": "[encoded data removed]",
      "text/plain": [
       "<Figure size 432x288 with 1 Axes>"
      ]
     },
     "metadata": {
      "needs_background": "light"
     },
     "output_type": "display_data"
    }
   ],
   "source": [
    "sns.heatmap(df.isnull(),yticklabels=False,cbar=False)"
   ]
  },
  {
   "cell_type": "code",
   "execution_count": 9,
   "id": "b96de3b1",
   "metadata": {},
   "outputs": [],
   "source": [
    "X = df[['Availability\\t\\t','Compliance']]\n",
    "y = df['Successability']"
   ]
  },
  {
   "cell_type": "code",
   "execution_count": 10,
   "id": "5e155652",
   "metadata": {},
   "outputs": [],
   "source": [
    "from sklearn.model_selection import train_test_split\n",
    "X_train,X_test,y_train,y_test = train_test_split(X,y,test_size =0.2)"
   ]
  },
  {
   "cell_type": "code",
   "execution_count": 11,
   "id": "6546fc19",
   "metadata": {},
   "outputs": [
    {
     "data": {
      "text/plain": [
       "2005"
      ]
     },
     "execution_count": 11,
     "metadata": {},
     "output_type": "execute_result"
    }
   ],
   "source": [
    "len(y_train)"
   ]
  },
  {
   "cell_type": "code",
   "execution_count": 12,
   "id": "29d1306e",
   "metadata": {},
   "outputs": [
    {
     "data": {
      "text/plain": [
       "502"
      ]
     },
     "execution_count": 12,
     "metadata": {},
     "output_type": "execute_result"
    }
   ],
   "source": [
    "len(X_test)"
   ]
  },
  {
   "cell_type": "code",
   "execution_count": 13,
   "id": "01482b39",
   "metadata": {},
   "outputs": [],
   "source": [
    "from sklearn.linear_model import LinearRegression\n",
    "clf = LinearRegression()"
   ]
  },
  {
   "cell_type": "code",
   "execution_count": 14,
   "id": "856831a0",
   "metadata": {},
   "outputs": [
    {
     "data": {
      "text/plain": [
       "LinearRegression()"
      ]
     },
     "execution_count": 14,
     "metadata": {},
     "output_type": "execute_result"
    }
   ],
   "source": [
    "clf.fit(X_train,y_train)"
   ]
  },
  {
   "cell_type": "code",
   "execution_count": 15,
   "id": "f41c33ae",
   "metadata": {},
   "outputs": [
    {
     "data": {
      "text/plain": [
       "array([ 11.98562056, 100.03921987,  64.8916838 , 102.13573414,\n",
       "        64.8916838 , 104.1704043 , 101.0256329 , 102.62894065,\n",
       "        98.99096273,  56.56747083,  82.15700447,  97.88086149,\n",
       "        85.8568265 ,  85.8568265 ,  86.35003301,  94.7979342 ,\n",
       "        36.09553465,  90.60490566,  99.069814  ,  57.06067735,\n",
       "        87.46013425, 103.12214717,  94.24288357,  96.89444847,\n",
       "        89.0015979 ,  61.7469124 ,  97.38765498,  94.7979342 ,\n",
       "        85.8568265 ,  85.8568265 ,  94.7979342 ,  32.39571263,\n",
       "        96.33939784,  68.03645521,  98.99096273,  94.7979342 ,\n",
       "        95.78434722,  85.8568265 ,  91.59131868, 104.1704043 ,\n",
       "        64.39847729, 102.62894065,  57.55388386, 103.18399127,\n",
       "        95.84619133,  68.59150583, 104.1704043 ,  90.60490566,\n",
       "       103.12214717,  68.59150583,  96.83260436,  95.78434722,\n",
       "        97.38765498,  89.49480441,  96.83260436,  93.19462644,\n",
       "       103.18399127,  88.44654728,  57.55388386,  88.44654728,\n",
       "        89.49480441,  98.99096273,  74.81920453,  96.83260436,\n",
       "        57.55388386,  88.50839139,  94.73609009,  47.07131251,\n",
       "        89.55664852,  57.55388386,  92.70141993,  64.8916838 ,\n",
       "        44.97479824,  85.8568265 ,  96.83260436,  95.78434722,\n",
       "        96.40124195,  90.60490566, 103.12214717,  98.99096273,\n",
       "        98.92911863,  92.14636931, 104.1704043 ,  88.50839139,\n",
       "       100.03921987,  91.59131868,  20.37167763,  70.19481359,\n",
       "        91.65316279,  85.36361998,  90.04985504,  90.54306155,\n",
       "        91.65316279,  79.6291278 ,  76.42251229,  87.95334077,\n",
       "        88.50839139,  92.63957582,  85.8568265 ,  16.17864909,\n",
       "        86.35003301,  94.30472768,  21.91314128,  92.70141993,\n",
       "       100.03921987,  93.19462644,  96.83260436,  38.68525544,\n",
       "        93.74967706,  87.46013425,  89.0015979 , 104.1704043 ,\n",
       "        88.44654728,  87.95334077,  85.8568265 , 100.53242638,\n",
       "        95.78434722,  85.8568265 ,  90.54306155, 102.07389003,\n",
       "        94.24288357, 103.67719779,  85.36361998,  89.0015979 ,\n",
       "        85.8568265 ,  88.44654728,  89.55664852,  57.55388386,\n",
       "       101.087477  ,  94.73609009,  34.4922269 ,  87.95334077,\n",
       "        95.29114071,  91.59131868,  87.95334077,  85.8568265 ,\n",
       "        89.0015979 ,  96.89444847,  36.58874117,  97.38765498,\n",
       "        85.8568265 ,  57.06067735,  19.3234205 , 104.1704043 ,\n",
       "        93.74967706,  79.6291278 , 103.12214717,  86.35003301,\n",
       "        43.92654111, 103.12214717, 101.087477  ,  88.44654728,\n",
       "        57.55388386,  64.8916838 ,  75.37425515, 102.07389003,\n",
       "        73.27774088, 101.0256329 ,  87.95334077,  68.03645521,\n",
       "        81.17059145,  26.59937633,  17.22690623,  99.97737576,\n",
       "        87.95334077,  84.31536285,  98.92911863,  64.39847729,\n",
       "        68.09829932, 100.03921987, 101.0256329 ,  91.59131868,\n",
       "        85.8568265 ,  63.84342667, 104.1704043 ,  64.8916838 ,\n",
       "        96.83260436,  20.37167763,  80.12233431,  94.30472768,\n",
       "        81.72564207,  89.49480441,  90.60490566,  87.95334077,\n",
       "        80.61554082,  92.63957582, 103.18399127,  89.55664852,\n",
       "        96.83260436,  95.84619133,  96.83260436,  90.04985504,\n",
       "        96.83260436,  74.32599802,  95.78434722,  89.0015979 ,\n",
       "        95.29114071,  92.70141993,  97.88086149,  88.44654728,\n",
       "        90.54306155,  67.48140459,  98.99096273,  89.0015979 ,\n",
       "       101.0256329 ,  88.50839139,  85.36361998,  93.74967706,\n",
       "        61.80875651,  87.95334077, 102.07389003,  93.68783295,\n",
       "        96.83260436,  89.55664852,  74.81920453,  94.73609009,\n",
       "        57.06067735,  15.62359847,  87.95334077, 103.18399127,\n",
       "        90.60490566, 104.1704043 ,  90.54306155,  74.32599802,\n",
       "       101.087477  ,  77.47076942,  95.78434722, 101.087477  ,\n",
       "        66.43314745, 103.12214717,  89.55664852, 101.0256329 ,\n",
       "       101.087477  ,  98.92911863,  91.15995628,  85.36361998,\n",
       "        36.93661416,  93.68783295,  94.73609009,  91.09811217,\n",
       "        42.87828398,  97.88086149,  95.78434722,  95.78434722,\n",
       "       102.13573414,  92.70141993,  52.31259819,  92.70141993,\n",
       "         7.2375414 ,  73.27774088,  90.60490566, 103.18399127,\n",
       "        80.61554082,  93.68783295,  91.65316279, 103.12214717,\n",
       "        90.54306155, 101.0256329 ,  95.78434722,  89.49480441,\n",
       "        95.78434722,  94.73609009,  92.63957582,  68.03645521,\n",
       "        90.54306155,  89.49480441,  90.60490566,  80.12233431,\n",
       "        96.89444847,  16.67185561,  51.81939167,  93.19462644,\n",
       "       100.03921987,  57.55388386, 103.12214717,  97.9427056 ,\n",
       "        97.88086149,  89.0015979 ,  81.10874734,  89.49480441,\n",
       "        93.74967706, 103.67719779,  93.74967706,  75.37425515,\n",
       "        91.65316279,  85.8568265 ,  95.84619133,  89.55664852,\n",
       "        94.24288357,  85.36361998,  96.89444847,  93.68783295,\n",
       "        72.78453437,  89.0015979 ,  10.93736342,  53.36085532,\n",
       "        88.50839139,  95.78434722,  76.97756291, 101.58068352,\n",
       "        58.04709037,  90.54306155,  98.92911863,  94.73609009,\n",
       "        64.39847729,  98.92911863,  74.32599802,  10.93736342,\n",
       "       102.07389003,  93.68783295,  52.86764881,  60.69865526,\n",
       "        97.88086149,  31.90250612,  27.15442696,  39.24030606,\n",
       "        89.0015979 ,  94.7979342 ,  89.0015979 ,  95.84619133,\n",
       "        87.95334077,  92.63957582,  99.97737576,  94.7979342 ,\n",
       "       101.0256329 ,  89.0015979 ,  95.29114071,  85.8568265 ,\n",
       "        72.22948375,  85.8568265 ,  96.83260436,  95.84619133,\n",
       "       102.07389003, 104.1704043 ,  87.95334077,  95.78434722,\n",
       "        89.0015979 ,  85.8568265 ,  87.46013425,  85.8568265 ,\n",
       "       104.1704043 , 102.13573414,  64.39847729,  89.0015979 ,\n",
       "        75.37425515,  93.19462644,  91.59131868,  86.90508363,\n",
       "       104.1704043 ,  70.6880201 ,  80.61554082,  51.81939167,\n",
       "        71.24307072,  91.65316279,  96.89444847,  95.78434722,\n",
       "       101.0256329 ,  97.88086149, 103.12214717,  90.54306155,\n",
       "        96.33939784, 101.087477  ,  97.88086149,  93.68783295,\n",
       "        51.81939167,  95.84619133,  95.78434722,  88.44654728,\n",
       "        80.12233431,  57.06067735,  64.8916838 ,  97.88086149,\n",
       "       103.12214717,  87.95334077,  90.54306155,  92.63957582,\n",
       "        62.79516953,  96.89444847,  89.0015979 ,  96.83260436,\n",
       "        62.79516953, 103.67719779, 100.03921987, 102.07389003,\n",
       "        46.02305538, 102.62894065,  97.9427056 ,  85.8568265 ,\n",
       "        93.68783295,  88.50839139,  87.46013425,  99.97737576,\n",
       "        57.55388386,  94.73609009,  45.52984887,  62.85701364,\n",
       "        26.45404282,  60.20544875,  75.37425515,  95.29114071,\n",
       "        96.83260436,  85.36361998,  86.90508363,  88.44654728,\n",
       "        92.70141993,  89.0015979 ,  87.95334077,  87.46013425,\n",
       "        90.04985504,  68.59150583,  85.8568265 ,  18.27516336,\n",
       "       103.12214717,  57.55388386, 103.18399127,  97.38765498,\n",
       "        87.46013425,  85.8568265 ,  28.20268409,  91.59131868,\n",
       "        69.08471234, 102.07389003,  88.44654728,  49.16782678,\n",
       "        58.602141  ,  92.63957582,  98.99096273,  92.70141993,\n",
       "        74.32599802,  93.68783295,  57.55388386,  74.32599802,\n",
       "        92.63957582,  47.62636314,  73.27774088, 101.0256329 ,\n",
       "       104.1704043 ,  99.97737576,  64.8916838 ,  85.8568265 ,\n",
       "        88.44654728, 103.12214717,  88.50839139,  85.36361998,\n",
       "       102.07389003, 104.1704043 ,  97.88086149,  97.9427056 ,\n",
       "        96.89444847,  85.36361998, 101.0256329 ,  90.60490566,\n",
       "        62.79516953,  96.83260436,  96.33939784,  53.42269943,\n",
       "        95.35298482,  99.48416925,  98.43591211, 103.12214717,\n",
       "        98.92911863,  95.78434722,  89.0015979 ,  16.17864909,\n",
       "        57.06067735,  24.50286206,  87.46013425,  27.70947758,\n",
       "        88.44654728,  95.78434722,  53.36085532,  91.59131868,\n",
       "        97.88086149,  85.8568265 ,  43.92654111,  91.09811217,\n",
       "        91.65316279,  85.8568265 ,  85.36361998,  78.02582004,\n",
       "       100.53242638, 102.07389003,  57.55388386,  64.8916838 ,\n",
       "        76.97756291,  89.0015979 ,  87.95334077,  88.44654728,\n",
       "        96.83260436,  87.95334077,  87.95334077,  87.46013425,\n",
       "        25.61296331, 102.62894065,  91.59131868, 103.12214717,\n",
       "        88.50839139,  53.42269943,  52.31259819,  37.6369983 ,\n",
       "       100.03921987,  92.14636931])"
      ]
     },
     "execution_count": 15,
     "metadata": {},
     "output_type": "execute_result"
    }
   ],
   "source": [
    "clf.predict(X_test)"
   ]
  },
  {
   "cell_type": "code",
   "execution_count": 16,
   "id": "077f7e5d",
   "metadata": {},
   "outputs": [
    {
     "data": {
      "text/plain": [
       "0.9796612120754811"
      ]
     },
     "execution_count": 16,
     "metadata": {},
     "output_type": "execute_result"
    }
   ],
   "source": [
    "clf.score(X_test,y_test)"
   ]
  },
  {
   "cell_type": "code",
   "execution_count": 17,
   "id": "5dc2d70b",
   "metadata": {},
   "outputs": [],
   "source": [
    "from sklearn.svm import SVC\n",
    "sm = SVC()"
   ]
  },
  {
   "cell_type": "code",
   "execution_count": 18,
   "id": "2b2e10d8",
   "metadata": {},
   "outputs": [
    {
     "data": {
      "text/plain": [
       "SVC()"
      ]
     },
     "execution_count": 18,
     "metadata": {},
     "output_type": "execute_result"
    }
   ],
   "source": [
    "sm.fit(X_train,y_train)"
   ]
  },
  {
   "cell_type": "code",
   "execution_count": 19,
   "id": "98eec641",
   "metadata": {},
   "outputs": [
    {
     "data": {
      "text/plain": [
       "array([ 12,  99,  63, 100,  63, 100,  99, 100,  99,  61,  78,  98,  84,\n",
       "        84,  95,  97,  40,  96,  95,  56,  95, 100,  97,  98,  86,  63,\n",
       "        98,  97,  84,  84,  97,  26,  98,  63,  99,  97,  97,  84,  96,\n",
       "       100,  63, 100,  56, 100,  98,  63, 100,  96, 100,  63,  98,  97,\n",
       "        98,  95,  98,  97, 100,  95,  56,  95,  95,  99,  72,  98,  56,\n",
       "        95,  97,  47,  95,  56,  97,  63,  47,  84,  98,  97,  98,  96,\n",
       "       100,  99,  98,  96, 100,  95,  99,  96,  21,  66,  96,  84,  86,\n",
       "        96,  96,  79,  72,  86,  95,  96,  84,  12,  95,  97,  26,  97,\n",
       "        99,  97,  98,  40,  97,  95,  86, 100,  95,  86,  84,  99,  97,\n",
       "        84,  96, 100,  97, 100,  84,  86,  84,  95,  95,  56, 100,  97,\n",
       "        40,  86,  97,  96,  86,  84,  86,  98,  43,  98,  84,  56,  21,\n",
       "       100,  97,  79, 100,  95,  47, 100, 100,  95,  56,  63,  72, 100,\n",
       "        72,  99,  86,  63,  79,  26,  21,  99,  86,  84,  98,  63,  63,\n",
       "        99,  99,  96,  84,  63, 100,  63,  98,  21,  79,  97,  79,  95,\n",
       "        96,  86,  78,  96, 100,  95,  98,  98,  98,  86,  98,  72,  97,\n",
       "        86,  97,  97,  98,  95,  96,  63,  99,  86,  99,  95,  84,  97,\n",
       "        61,  86, 100,  97,  98,  95,  72,  97,  56,  17,  86, 100,  96,\n",
       "       100,  96,  72, 100,  78,  97, 100,  63, 100,  95,  99, 100,  98,\n",
       "        96,  84,  40,  97,  97,  86,  47,  98,  97,  97, 100,  97,  51,\n",
       "        97,  12,  72,  96, 100,  78,  97,  96, 100,  96,  99,  97,  95,\n",
       "        97,  97,  96,  63,  96,  95,  96,  79,  98,  17,  51,  97,  99,\n",
       "        56, 100,  99,  98,  86,  78,  95,  97, 100,  97,  72,  96,  84,\n",
       "        98,  95,  97,  84,  98,  97,  72,  86,  12,  51,  95,  97,  79,\n",
       "       100,  56,  96,  98,  97,  63,  98,  72,  12, 100,  97,  51,  56,\n",
       "        98,  30,  26,  40,  86,  97,  86,  98,  86,  96,  99,  97,  99,\n",
       "        86,  97,  84,  72,  84,  98,  98, 100, 100,  86,  97,  86,  84,\n",
       "        95,  84, 100, 100,  63,  86,  72,  97,  96,  84, 100,  72,  78,\n",
       "        51,  72,  96,  98,  97,  99,  98, 100,  96,  98, 100,  98,  97,\n",
       "        51,  98,  97,  95,  79,  56,  63,  98, 100,  86,  96,  96,  63,\n",
       "        98,  86,  98,  63, 100,  99, 100,  47, 100,  99,  84,  97,  95,\n",
       "        95,  99,  56,  97,  47,  61,  35,  56,  72,  97,  98,  84,  84,\n",
       "        95,  97,  86,  86,  95,  86,  63,  84,  21, 100,  56, 100,  98,\n",
       "        95,  84,  26,  96,  63, 100,  95,  51,  56,  96,  99,  97,  72,\n",
       "        97,  56,  72,  96,  51,  72,  99, 100,  99,  63,  84,  95, 100,\n",
       "        95,  84, 100, 100,  98,  99,  98,  84,  99,  96,  63,  98,  98,\n",
       "        56,  97,  99,  98, 100,  98,  97,  86,  12,  56,  26,  95,  30,\n",
       "        95,  97,  51,  96,  98,  84,  47,  86,  96,  84,  84,  79,  99,\n",
       "       100,  56,  63,  79,  86,  86,  95,  98,  86,  86,  95,  30, 100,\n",
       "        96, 100,  95,  56,  51,  43,  99,  96], dtype=int64)"
      ]
     },
     "execution_count": 19,
     "metadata": {},
     "output_type": "execute_result"
    }
   ],
   "source": [
    "sm.predict(X_test)"
   ]
  },
  {
   "cell_type": "code",
   "execution_count": 20,
   "id": "eaff97c7",
   "metadata": {},
   "outputs": [
    {
     "data": {
      "text/plain": [
       "0.6533864541832669"
      ]
     },
     "execution_count": 20,
     "metadata": {},
     "output_type": "execute_result"
    }
   ],
   "source": [
    "sm.score(X_test,y_test)"
   ]
  },
  {
   "cell_type": "code",
   "execution_count": 21,
   "id": "d7960060",
   "metadata": {},
   "outputs": [],
   "source": [
    "from sklearn.ensemble import RandomForestClassifier"
   ]
  },
  {
   "cell_type": "code",
   "execution_count": 22,
   "id": "0a8c7d40",
   "metadata": {},
   "outputs": [
    {
     "data": {
      "text/plain": [
       "RandomForestClassifier(n_estimators=40)"
      ]
     },
     "execution_count": 22,
     "metadata": {},
     "output_type": "execute_result"
    }
   ],
   "source": [
    "rf=RandomForestClassifier(n_estimators=40)\n",
    "rf.fit(X_train,y_train)"
   ]
  },
  {
   "cell_type": "code",
   "execution_count": 23,
   "id": "4e8267a5",
   "metadata": {},
   "outputs": [
    {
     "data": {
      "text/plain": [
       "0.7330677290836654"
      ]
     },
     "execution_count": 23,
     "metadata": {},
     "output_type": "execute_result"
    }
   ],
   "source": [
    "rf.score(X_test,y_test)"
   ]
  },
  {
   "cell_type": "code",
   "execution_count": 24,
   "id": "41f45844",
   "metadata": {},
   "outputs": [],
   "source": [
    "from sklearn import tree"
   ]
  },
  {
   "cell_type": "code",
   "execution_count": 25,
   "id": "7f562dec",
   "metadata": {},
   "outputs": [],
   "source": [
    "tree = tree.DecisionTreeClassifier()"
   ]
  },
  {
   "cell_type": "code",
   "execution_count": 26,
   "id": "0f878c0a",
   "metadata": {},
   "outputs": [
    {
     "data": {
      "text/plain": [
       "DecisionTreeClassifier()"
      ]
     },
     "execution_count": 26,
     "metadata": {},
     "output_type": "execute_result"
    }
   ],
   "source": [
    "tree.fit(X_train,y_train)"
   ]
  },
  {
   "cell_type": "code",
   "execution_count": 27,
   "id": "731db306",
   "metadata": {},
   "outputs": [
    {
     "data": {
      "text/plain": [
       "0.7450199203187251"
      ]
     },
     "execution_count": 27,
     "metadata": {},
     "output_type": "execute_result"
    }
   ],
   "source": [
    "tree.score(X_test,y_test)"
   ]
  },
  {
   "cell_type": "code",
   "execution_count": 28,
   "id": "f897dbec",
   "metadata": {},
   "outputs": [
    {
     "data": {
      "text/plain": [
       "KFold(n_splits=10, random_state=None, shuffle=False)"
      ]
     },
     "execution_count": 28,
     "metadata": {},
     "output_type": "execute_result"
    }
   ],
   "source": [
    "from  sklearn.model_selection import KFold\n",
    "kf = KFold(n_splits=10)\n",
    "kf"
   ]
  },
  {
   "cell_type": "code",
   "execution_count": 29,
   "id": "67d154a4",
   "metadata": {},
   "outputs": [],
   "source": [
    "#for train_index,test_index in kf.split([1,2,3,4,5,6,7,8,9,2,3,4,5,6,7,8,6,4]):\n",
    "   # print(train_index,test_index)"
   ]
  },
  {
   "cell_type": "code",
   "execution_count": 30,
   "id": "6f44c336",
   "metadata": {},
   "outputs": [],
   "source": [
    "def get_score(model,X_train,X_test,y_train,y_test):\n",
    "    model.fit(X_train,y_train)\n",
    "    return model.score(X_test,y_test)"
   ]
  },
  {
   "cell_type": "code",
   "execution_count": 31,
   "id": "175a4d72",
   "metadata": {},
   "outputs": [
    {
     "data": {
      "text/plain": [
       "0.9796612120754811"
      ]
     },
     "execution_count": 31,
     "metadata": {},
     "output_type": "execute_result"
    }
   ],
   "source": [
    "get_score(LinearRegression(),X_train,X_test,y_train,y_test)"
   ]
  },
  {
   "cell_type": "code",
   "execution_count": 32,
   "id": "10400051",
   "metadata": {},
   "outputs": [
    {
     "data": {
      "text/plain": [
       "0.6533864541832669"
      ]
     },
     "execution_count": 32,
     "metadata": {},
     "output_type": "execute_result"
    }
   ],
   "source": [
    "get_score(SVC(),X_train,X_test,y_train,y_test)"
   ]
  },
  {
   "cell_type": "code",
   "execution_count": 33,
   "id": "ed133f34",
   "metadata": {},
   "outputs": [
    {
     "data": {
      "text/plain": [
       "KFold(n_splits=10, random_state=None, shuffle=False)"
      ]
     },
     "execution_count": 33,
     "metadata": {},
     "output_type": "execute_result"
    }
   ],
   "source": [
    "from sklearn.model_selection import KFold\n",
    "# from sklearn.model_selection import KFold\n",
    "kf= KFold(n_splits=10)\n",
    "kf"
   ]
  },
  {
   "cell_type": "code",
   "execution_count": 34,
   "id": "a7c5947d",
   "metadata": {
    "scrolled": true
   },
   "outputs": [
    {
     "name": "stdout",
     "output_type": "stream",
     "text": [
      "[1 2 3 4 5 6 7 8 9] [0]\n",
      "[0 2 3 4 5 6 7 8 9] [1]\n",
      "[0 1 3 4 5 6 7 8 9] [2]\n",
      "[0 1 2 4 5 6 7 8 9] [3]\n",
      "[0 1 2 3 5 6 7 8 9] [4]\n",
      "[0 1 2 3 4 6 7 8 9] [5]\n",
      "[0 1 2 3 4 5 7 8 9] [6]\n",
      "[0 1 2 3 4 5 6 8 9] [7]\n",
      "[0 1 2 3 4 5 6 7 9] [8]\n",
      "[0 1 2 3 4 5 6 7 8] [9]\n"
     ]
    }
   ],
   "source": [
    "for train_index,test_index in kf.split([1,2,3,4,5,6,7,8,9,10]):\n",
    "    print(train_index,test_index)"
   ]
  },
  {
   "cell_type": "code",
   "execution_count": 35,
   "id": "323319d5",
   "metadata": {},
   "outputs": [],
   "source": [
    "def get_score(model, X_train,X_test,y_train,y_test):\n",
    "    model.fit(X_train,y_train)\n",
    "    return model.score(X_test,y_test)"
   ]
  },
  {
   "cell_type": "code",
   "execution_count": 36,
   "id": "e7803a3c",
   "metadata": {},
   "outputs": [],
   "source": [
    "from sklearn.model_selection import StratifiedKFold\n",
    "fold =StratifiedKFold(n_splits=10)"
   ]
  },
  {
   "cell_type": "code",
   "execution_count": null,
   "id": "cfe26b9c",
   "metadata": {
    "scrolled": true
   },
   "outputs": [],
   "source": []
  },
  {
   "cell_type": "code",
   "execution_count": 38,
   "id": "55f056b4",
   "metadata": {
    "scrolled": true
   },
   "outputs": [
    {
     "ename": "KeyError",
     "evalue": "\"None of [Int64Index([ 251,  252,  253,  254,  255,  256,  257,  258,  259,  260,\\n            ...\\n            2497, 2498, 2499, 2500, 2501, 2502, 2503, 2504, 2505, 2506],\\n           dtype='int64', length=2256)] are in the [columns]\"",
     "output_type": "error",
     "traceback": [
      "\u001b[1;31m---------------------------------------------------------------------------\u001b[0m",
      "\u001b[1;31mKeyError\u001b[0m                                  Traceback (most recent call last)",
      "\u001b[1;32m~\\AppData\\Local\\Temp/ipykernel_3096/1527429496.py\u001b[0m in \u001b[0;36m<module>\u001b[1;34m\u001b[0m\n\u001b[0;32m      5\u001b[0m \u001b[1;33m\u001b[0m\u001b[0m\n\u001b[0;32m      6\u001b[0m \u001b[1;32mfor\u001b[0m  \u001b[0mtrain_index\u001b[0m\u001b[1;33m,\u001b[0m\u001b[0mtest_index\u001b[0m \u001b[1;32min\u001b[0m \u001b[0mkf\u001b[0m\u001b[1;33m.\u001b[0m\u001b[0msplit\u001b[0m\u001b[1;33m(\u001b[0m\u001b[0mX\u001b[0m\u001b[1;33m)\u001b[0m\u001b[1;33m:\u001b[0m\u001b[1;33m\u001b[0m\u001b[1;33m\u001b[0m\u001b[0m\n\u001b[1;32m----> 7\u001b[1;33m     \u001b[0mX_train\u001b[0m\u001b[1;33m,\u001b[0m\u001b[0mX_test\u001b[0m\u001b[1;33m,\u001b[0m\u001b[0my_train\u001b[0m\u001b[1;33m,\u001b[0m\u001b[0my_test\u001b[0m \u001b[1;33m=\u001b[0m \u001b[0mX\u001b[0m\u001b[1;33m[\u001b[0m\u001b[0mtrain_index\u001b[0m\u001b[1;33m]\u001b[0m\u001b[1;33m,\u001b[0m\u001b[0mX\u001b[0m\u001b[1;33m[\u001b[0m\u001b[0mtest_index\u001b[0m\u001b[1;33m]\u001b[0m\u001b[1;33m,\u001b[0m\u001b[0;31m \u001b[0m\u001b[0;31m\\\u001b[0m\u001b[1;33m\u001b[0m\u001b[1;33m\u001b[0m\u001b[0m\n\u001b[0m\u001b[0;32m      8\u001b[0m                                      \u001b[0my\u001b[0m\u001b[1;33m[\u001b[0m\u001b[0mtrain_index\u001b[0m\u001b[1;33m]\u001b[0m\u001b[1;33m,\u001b[0m\u001b[0my\u001b[0m\u001b[1;33m[\u001b[0m\u001b[0mtest_index\u001b[0m\u001b[1;33m]\u001b[0m\u001b[1;33m\u001b[0m\u001b[1;33m\u001b[0m\u001b[0m\n\u001b[0;32m      9\u001b[0m     \u001b[0mscores_clf\u001b[0m\u001b[1;33m.\u001b[0m\u001b[0mappend\u001b[0m\u001b[1;33m(\u001b[0m\u001b[0mget_score\u001b[0m\u001b[1;33m(\u001b[0m\u001b[0mLinearRegression\u001b[0m\u001b[1;33m(\u001b[0m\u001b[1;33m)\u001b[0m\u001b[1;33m,\u001b[0m \u001b[0mX_train\u001b[0m\u001b[1;33m,\u001b[0m \u001b[0mX_test\u001b[0m\u001b[1;33m,\u001b[0m \u001b[0my_train\u001b[0m\u001b[1;33m,\u001b[0m \u001b[0mY_test\u001b[0m\u001b[1;33m)\u001b[0m\u001b[1;33m)\u001b[0m\u001b[1;33m\u001b[0m\u001b[1;33m\u001b[0m\u001b[0m\n",
      "\u001b[1;32m~\\anaconda3\\lib\\site-packages\\pandas\\core\\frame.py\u001b[0m in \u001b[0;36m__getitem__\u001b[1;34m(self, key)\u001b[0m\n\u001b[0;32m   3462\u001b[0m             \u001b[1;32mif\u001b[0m \u001b[0mis_iterator\u001b[0m\u001b[1;33m(\u001b[0m\u001b[0mkey\u001b[0m\u001b[1;33m)\u001b[0m\u001b[1;33m:\u001b[0m\u001b[1;33m\u001b[0m\u001b[1;33m\u001b[0m\u001b[0m\n\u001b[0;32m   3463\u001b[0m                 \u001b[0mkey\u001b[0m \u001b[1;33m=\u001b[0m \u001b[0mlist\u001b[0m\u001b[1;33m(\u001b[0m\u001b[0mkey\u001b[0m\u001b[1;33m)\u001b[0m\u001b[1;33m\u001b[0m\u001b[1;33m\u001b[0m\u001b[0m\n\u001b[1;32m-> 3464\u001b[1;33m             \u001b[0mindexer\u001b[0m \u001b[1;33m=\u001b[0m \u001b[0mself\u001b[0m\u001b[1;33m.\u001b[0m\u001b[0mloc\u001b[0m\u001b[1;33m.\u001b[0m\u001b[0m_get_listlike_indexer\u001b[0m\u001b[1;33m(\u001b[0m\u001b[0mkey\u001b[0m\u001b[1;33m,\u001b[0m \u001b[0maxis\u001b[0m\u001b[1;33m=\u001b[0m\u001b[1;36m1\u001b[0m\u001b[1;33m)\u001b[0m\u001b[1;33m[\u001b[0m\u001b[1;36m1\u001b[0m\u001b[1;33m]\u001b[0m\u001b[1;33m\u001b[0m\u001b[1;33m\u001b[0m\u001b[0m\n\u001b[0m\u001b[0;32m   3465\u001b[0m \u001b[1;33m\u001b[0m\u001b[0m\n\u001b[0;32m   3466\u001b[0m         \u001b[1;31m# take() does not accept boolean indexers\u001b[0m\u001b[1;33m\u001b[0m\u001b[1;33m\u001b[0m\u001b[0m\n",
      "\u001b[1;32m~\\anaconda3\\lib\\site-packages\\pandas\\core\\indexing.py\u001b[0m in \u001b[0;36m_get_listlike_indexer\u001b[1;34m(self, key, axis)\u001b[0m\n\u001b[0;32m   1312\u001b[0m             \u001b[0mkeyarr\u001b[0m\u001b[1;33m,\u001b[0m \u001b[0mindexer\u001b[0m\u001b[1;33m,\u001b[0m \u001b[0mnew_indexer\u001b[0m \u001b[1;33m=\u001b[0m \u001b[0max\u001b[0m\u001b[1;33m.\u001b[0m\u001b[0m_reindex_non_unique\u001b[0m\u001b[1;33m(\u001b[0m\u001b[0mkeyarr\u001b[0m\u001b[1;33m)\u001b[0m\u001b[1;33m\u001b[0m\u001b[1;33m\u001b[0m\u001b[0m\n\u001b[0;32m   1313\u001b[0m \u001b[1;33m\u001b[0m\u001b[0m\n\u001b[1;32m-> 1314\u001b[1;33m         \u001b[0mself\u001b[0m\u001b[1;33m.\u001b[0m\u001b[0m_validate_read_indexer\u001b[0m\u001b[1;33m(\u001b[0m\u001b[0mkeyarr\u001b[0m\u001b[1;33m,\u001b[0m \u001b[0mindexer\u001b[0m\u001b[1;33m,\u001b[0m \u001b[0maxis\u001b[0m\u001b[1;33m)\u001b[0m\u001b[1;33m\u001b[0m\u001b[1;33m\u001b[0m\u001b[0m\n\u001b[0m\u001b[0;32m   1315\u001b[0m \u001b[1;33m\u001b[0m\u001b[0m\n\u001b[0;32m   1316\u001b[0m         if needs_i8_conversion(ax.dtype) or isinstance(\n",
      "\u001b[1;32m~\\anaconda3\\lib\\site-packages\\pandas\\core\\indexing.py\u001b[0m in \u001b[0;36m_validate_read_indexer\u001b[1;34m(self, key, indexer, axis)\u001b[0m\n\u001b[0;32m   1372\u001b[0m                 \u001b[1;32mif\u001b[0m \u001b[0muse_interval_msg\u001b[0m\u001b[1;33m:\u001b[0m\u001b[1;33m\u001b[0m\u001b[1;33m\u001b[0m\u001b[0m\n\u001b[0;32m   1373\u001b[0m                     \u001b[0mkey\u001b[0m \u001b[1;33m=\u001b[0m \u001b[0mlist\u001b[0m\u001b[1;33m(\u001b[0m\u001b[0mkey\u001b[0m\u001b[1;33m)\u001b[0m\u001b[1;33m\u001b[0m\u001b[1;33m\u001b[0m\u001b[0m\n\u001b[1;32m-> 1374\u001b[1;33m                 \u001b[1;32mraise\u001b[0m \u001b[0mKeyError\u001b[0m\u001b[1;33m(\u001b[0m\u001b[1;34mf\"None of [{key}] are in the [{axis_name}]\"\u001b[0m\u001b[1;33m)\u001b[0m\u001b[1;33m\u001b[0m\u001b[1;33m\u001b[0m\u001b[0m\n\u001b[0m\u001b[0;32m   1375\u001b[0m \u001b[1;33m\u001b[0m\u001b[0m\n\u001b[0;32m   1376\u001b[0m             \u001b[0mnot_found\u001b[0m \u001b[1;33m=\u001b[0m \u001b[0mlist\u001b[0m\u001b[1;33m(\u001b[0m\u001b[0mensure_index\u001b[0m\u001b[1;33m(\u001b[0m\u001b[0mkey\u001b[0m\u001b[1;33m)\u001b[0m\u001b[1;33m[\u001b[0m\u001b[0mmissing_mask\u001b[0m\u001b[1;33m.\u001b[0m\u001b[0mnonzero\u001b[0m\u001b[1;33m(\u001b[0m\u001b[1;33m)\u001b[0m\u001b[1;33m[\u001b[0m\u001b[1;36m0\u001b[0m\u001b[1;33m]\u001b[0m\u001b[1;33m]\u001b[0m\u001b[1;33m.\u001b[0m\u001b[0munique\u001b[0m\u001b[1;33m(\u001b[0m\u001b[1;33m)\u001b[0m\u001b[1;33m)\u001b[0m\u001b[1;33m\u001b[0m\u001b[1;33m\u001b[0m\u001b[0m\n",
      "\u001b[1;31mKeyError\u001b[0m: \"None of [Int64Index([ 251,  252,  253,  254,  255,  256,  257,  258,  259,  260,\\n            ...\\n            2497, 2498, 2499, 2500, 2501, 2502, 2503, 2504, 2505, 2506],\\n           dtype='int64', length=2256)] are in the [columns]\""
     ]
    }
   ],
   "source": [
    "scores_clf = []\n",
    "# score_tree = []\n",
    "scores_rf = []\n",
    "scores_sm = []\n",
    "\n",
    "for  train_index,test_index in kf.split(X):\n",
    "    X_train,X_test,y_train,y_test = X[train_index],X[test_index], \\\n",
    "                                     y[train_index],y[test_index]\n",
    "    scores_clf.append(get_score(LinearRegression(), X_train, X_test, y_train, Y_test))\n",
    "    scores_sm.append(get_score(SVC(), X_train, X_test, y_train, Y_test))\n",
    "    scores_rf.append(get_score(RandomForestClassifier(), X_train, X_test, y_train, Y_test))\n",
    "#     get_score(get_score(tree.DecisionTreeClassifier()(), X_train, X_test, y_train, Y_test))"
   ]
  },
  {
   "cell_type": "code",
   "execution_count": null,
   "id": "5cf500ea",
   "metadata": {},
   "outputs": [],
   "source": []
  },
  {
   "cell_type": "code",
   "execution_count": null,
   "id": "a8398301",
   "metadata": {},
   "outputs": [],
   "source": []
  }
 ],
 "metadata": {
  "kernelspec": {
   "display_name": "Python 3 (ipykernel)",
   "language": "python",
   "name": "python3"
  },
  "language_info": {
   "codemirror_mode": {
    "name": "ipython",
    "version": 3
   },
   "file_extension": ".py",
   "mimetype": "text/x-python",
   "name": "python",
   "nbconvert_exporter": "python",
   "pygments_lexer": "ipython3",
   "version": "3.9.7"
  }
 },
 "nbformat": 4,
 "nbformat_minor": 5
}
